{
 "cells": [
  {
   "cell_type": "markdown",
   "id": "4bf51f71",
   "metadata": {},
   "source": [
    "# <font color=indigo> Conversor de PDF em JPG"
   ]
  },
  {
   "cell_type": "markdown",
   "id": "8e6ab8d2",
   "metadata": {},
   "source": [
    "## <font color=purple>1. Instalando a lib e Pacotes"
   ]
  },
  {
   "cell_type": "code",
   "execution_count": null,
   "id": "183fecda",
   "metadata": {
    "scrolled": true
   },
   "outputs": [],
   "source": [
    "!pip install pdf2image\n"
   ]
  },
  {
   "cell_type": "code",
   "execution_count": null,
   "id": "ac066410",
   "metadata": {},
   "outputs": [],
   "source": [
    "from pdf2image import convert_from_path\n",
    "from PIL import Image \n"
   ]
  },
  {
   "cell_type": "markdown",
   "id": "e4ca696c",
   "metadata": {},
   "source": [
    "### <font color=darkred> ***Primeiramente, para que este código funcione, você deve baixar o PDF da internet e armazená-lo na pasta /Downloads do seu computador.***"
   ]
  },
  {
   "cell_type": "markdown",
   "id": "74100288",
   "metadata": {},
   "source": [
    "## <font color=purple>2. Fazendo a Conversão"
   ]
  },
  {
   "cell_type": "markdown",
   "id": "265b868a",
   "metadata": {},
   "source": [
    "Em ***convert_from_path***, no argumento ***'Downloads/NOME_DO_ARQUIVO' substituir NOME_DO_ARQUIVO pelo nome do pdf baixado***.\n",
    "\n",
    "Obs.: o mesmo deve estar dentro da pasta downloads no seu computador, conforme mencionado acima."
   ]
  },
  {
   "cell_type": "markdown",
   "id": "e34b02a6",
   "metadata": {},
   "source": [
    "### <font color=purple>2.1 Informando o nome do arquivo"
   ]
  },
  {
   "cell_type": "code",
   "execution_count": null,
   "id": "e71f2674",
   "metadata": {},
   "outputs": [],
   "source": [
    "nome_arquivo = input('Informe o nome do arquivo baixado:')\n"
   ]
  },
  {
   "cell_type": "markdown",
   "id": "3f46fdc5",
   "metadata": {},
   "source": [
    "### <font color=purple>2.1 Fazendo a conversão"
   ]
  },
  {
   "cell_type": "code",
   "execution_count": null,
   "id": "91dc3057",
   "metadata": {},
   "outputs": [],
   "source": [
    "imagem = convert_from_path('Downloads/' + nome_arquivo + '.pdf', dpi=200)\n",
    "arquivo_png = (nome_arquivo + ' - png' + '.png')\n",
    "\n",
    "for imagens in imagem:\n",
    "       imagens.save(arquivo_png, 'PNG')\n",
    "        "
   ]
  },
  {
   "cell_type": "markdown",
   "id": "ce1ba9f0",
   "metadata": {},
   "source": [
    "### <font color=purple>2.2 Extra: Rotacionando a Imagem (em caso de fotos, entre outros)"
   ]
  },
  {
   "cell_type": "markdown",
   "id": "03e57e05",
   "metadata": {},
   "source": [
    "Para girar a imagem no ângulo desejado, informar o mesmo dentro dos parentes em ***.rotate(ANGULOX)***.\n",
    "\n",
    "**** O ângulo deve ser um número inteiro.***\n",
    "\n",
    "Para manter sem rotacionar, ***deixar como 0***."
   ]
  },
  {
   "cell_type": "code",
   "execution_count": null,
   "id": "28419e9a",
   "metadata": {},
   "outputs": [],
   "source": [
    "imagem = Image.open(arquivo_png).rotate(0)\n",
    "\n",
    "arquivo_png_rot = (nome_arquivo + ' - png - rotacionado' + '.png')\n",
    "imagemdisplay = 'Downloads/' + arquivo_png_rot\n",
    "\n",
    "imagem.save(arquivo_png_rot, 'PNG')\n"
   ]
  },
  {
   "cell_type": "markdown",
   "id": "d557ec68",
   "metadata": {},
   "source": [
    "# <font color=indigo> Fim da Conversão! A imagem a seguir foi salva."
   ]
  },
  {
   "cell_type": "code",
   "execution_count": null,
   "id": "cfa65c14",
   "metadata": {},
   "outputs": [],
   "source": [
    "imagem.show(arquivo_png_rot)"
   ]
  },
  {
   "cell_type": "code",
   "execution_count": null,
   "id": "f691f7d5",
   "metadata": {},
   "outputs": [],
   "source": []
  }
 ],
 "metadata": {
  "kernelspec": {
   "display_name": "Python 3 (ipykernel)",
   "language": "python",
   "name": "python3"
  },
  "language_info": {
   "codemirror_mode": {
    "name": "ipython",
    "version": 3
   },
   "file_extension": ".py",
   "mimetype": "text/x-python",
   "name": "python",
   "nbconvert_exporter": "python",
   "pygments_lexer": "ipython3",
   "version": "3.9.12"
  }
 },
 "nbformat": 4,
 "nbformat_minor": 5
}
