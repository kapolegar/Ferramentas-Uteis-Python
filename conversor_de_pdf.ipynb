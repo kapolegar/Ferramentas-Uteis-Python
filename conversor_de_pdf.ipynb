{
 "cells": [
  {
   "cell_type": "markdown",
   "id": "861644ed",
   "metadata": {},
   "source": [
    "# <font color=indigo> Conversor de PDF em JPG"
   ]
  },
  {
   "cell_type": "markdown",
   "id": "95b5900b",
   "metadata": {},
   "source": [
    "## <font color=purple>1. Instalando a lib e Pacotes"
   ]
  },
  {
   "cell_type": "code",
   "execution_count": 62,
   "id": "183fecda",
   "metadata": {
    "scrolled": true
   },
   "outputs": [
    {
     "name": "stdout",
     "output_type": "stream",
     "text": [
      "Requirement already satisfied: pdf2image in c:\\users\\karib\\anaconda3\\lib\\site-packages (1.16.0)\n",
      "Requirement already satisfied: pillow in c:\\users\\karib\\anaconda3\\lib\\site-packages (from pdf2image) (9.0.1)\n"
     ]
    }
   ],
   "source": [
    "!pip install pdf2image\n"
   ]
  },
  {
   "cell_type": "markdown",
   "id": "17b22c9f",
   "metadata": {},
   "source": [
    "from pdf2image import convert_from_path\n",
    "from PIL import Image \n"
   ]
  },
  {
   "cell_type": "markdown",
   "id": "fb9cc21d",
   "metadata": {},
   "source": [
    "### <font color=darkred> ***Primeiramente, para que este código funcione, você deve baixar o PDF da internet e armazená-lo na pasta /Downloads do seu computador.***"
   ]
  },
  {
   "cell_type": "markdown",
   "id": "79586df4",
   "metadata": {},
   "source": [
    "## <font color=purple>2. Fazendo a Conversão"
   ]
  },
  {
   "cell_type": "markdown",
   "id": "7f74c7ef",
   "metadata": {},
   "source": [
    "Em ***convert_from_path***, no argumento ***'Downloads/NOME_DO_ARQUIVO' substituir NOME_DO_ARQUIVO pelo nome do pdf baixado***.\n",
    "\n",
    "Obs.: o mesmo deve estar dentro da pasta downloads no seu computador, conforme mencionado acima."
   ]
  },
  {
   "cell_type": "markdown",
   "id": "1d57bbf9",
   "metadata": {},
   "source": [
    "### <font color=purple>2.1 Informando o nome do arquivo"
   ]
  },
  {
   "cell_type": "code",
   "execution_count": 63,
   "id": "899c115c",
   "metadata": {},
   "outputs": [
    {
     "name": "stdout",
     "output_type": "stream",
     "text": [
      "Informe o nome do arquivo baixado:Gympass\n"
     ]
    }
   ],
   "source": [
    "nome_arquivo = input('Informe o nome do arquivo baixado:')\n"
   ]
  },
  {
   "cell_type": "markdown",
   "id": "90205515",
   "metadata": {},
   "source": [
    "### <font color=purple>2.1 Fazendo a conversão"
   ]
  },
  {
   "cell_type": "code",
   "execution_count": 64,
   "id": "91dc3057",
   "metadata": {},
   "outputs": [],
   "source": [
    "imagem = convert_from_path('Downloads/' + nome_arquivo + '.pdf', dpi=200)\n",
    "arquivo_png = (nome_arquivo + ' - png' + '.png')\n",
    "\n",
    "for imagens in imagem:\n",
    "       imagens.save(arquivo_png, 'PNG')\n",
    "        "
   ]
  },
  {
   "cell_type": "markdown",
   "id": "6a2bc452",
   "metadata": {},
   "source": [
    "### <font color=purple>2.2 Extra: Rotacionando a Imagem (em caso de fotos, entre outros)"
   ]
  },
  {
   "cell_type": "markdown",
   "id": "30d1981f",
   "metadata": {},
   "source": [
    "Para girar a imagem no ângulo desejado, informar o mesmo dentro dos parentes em ***.rotate(ANGULOX)***.\n",
    "\n",
    "**** O ângulo deve ser um número inteiro.***\n",
    "\n",
    "Para manter sem rotacionar, ***deixar como 0***."
   ]
  },
  {
   "cell_type": "code",
   "execution_count": 65,
   "id": "108125e4",
   "metadata": {},
   "outputs": [],
   "source": [
    "imagem = Image.open(arquivo_png).rotate(0)\n",
    "\n",
    "arquivo_png_rot = (nome_arquivo + ' - png - rotacionado' + '.png')\n",
    "imagemdisplay = 'Downloads/' + arquivo_png_rot\n",
    "\n",
    "imagem.save(arquivo_png_rot, 'PNG')\n"
   ]
  },
  {
   "cell_type": "markdown",
   "id": "9f04a53a",
   "metadata": {},
   "source": [
    "# <font color=indigo> Fim da Conversão! A imagem a seguir foi salva."
   ]
  },
  {
   "cell_type": "code",
   "execution_count": 66,
   "id": "5843a32d",
   "metadata": {},
   "outputs": [],
   "source": [
    "imagem.show(arquivo_png_rot)"
   ]
  },
  {
   "cell_type": "code",
   "execution_count": null,
   "id": "9c1d41fe",
   "metadata": {},
   "outputs": [],
   "source": []
  }
 ],
 "metadata": {
  "kernelspec": {
   "display_name": "Python 3 (ipykernel)",
   "language": "python",
   "name": "python3"
  },
  "language_info": {
   "codemirror_mode": {
    "name": "ipython",
    "version": 3
   },
   "file_extension": ".py",
   "mimetype": "text/x-python",
   "name": "python",
   "nbconvert_exporter": "python",
   "pygments_lexer": "ipython3",
   "version": "3.9.12"
  }
 },
 "nbformat": 4,
 "nbformat_minor": 5
}
