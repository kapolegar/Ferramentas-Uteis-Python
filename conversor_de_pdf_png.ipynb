{
 "cells": [
  {
   "cell_type": "markdown",
   "id": "2797003c",
   "metadata": {},
   "source": [
    "# <font color=indigo> Conversor de PDF em PNG"
   ]
  },
  {
   "cell_type": "markdown",
   "id": "42998841",
   "metadata": {},
   "source": [
    "## <font color=purple>1. Instalando a lib e Pacotes"
   ]
  },
  {
   "cell_type": "code",
   "execution_count": null,
   "id": "183fecda",
   "metadata": {
    "scrolled": true
   },
   "outputs": [],
   "source": [
    "!pip install pdf2image\n"
   ]
  },
  {
   "cell_type": "code",
   "execution_count": null,
   "id": "50a28442",
   "metadata": {},
   "outputs": [],
   "source": [
    "from pdf2image import convert_from_path\n",
    "from PIL import Image \n"
   ]
  },
  {
   "cell_type": "markdown",
   "id": "dc2588c5",
   "metadata": {},
   "source": [
    "## <font color=purple>2. Fazendo a Conversão"
   ]
  },
  {
   "cell_type": "markdown",
   "id": "c1db9cdb",
   "metadata": {},
   "source": [
    "### <font color=darkred> ***Primeiramente, para que o código funcione corretamente, o arquivo deve ser baixado e armazenado na pasta \"Downloads\" do seu computador.***\n"
   ]
  },
  {
   "cell_type": "markdown",
   "id": "43e9d949",
   "metadata": {},
   "source": [
    "### <font color=purple>2.1  Informando o nome do arquivo"
   ]
  },
  {
   "cell_type": "markdown",
   "id": "89ad018e",
   "metadata": {},
   "source": [
    "***Abaixo, você será solicitado a informar o nome do arquivo salvo.***"
   ]
  },
  {
   "cell_type": "code",
   "execution_count": null,
   "id": "007d33c2",
   "metadata": {},
   "outputs": [],
   "source": [
    "nome_arquivo = input('Informe o nome do arquivo baixado: ')\n"
   ]
  },
  {
   "cell_type": "markdown",
   "id": "58de6b61",
   "metadata": {},
   "source": [
    "### <font color=purple>2.2  Fazendo a conversão"
   ]
  },
  {
   "cell_type": "code",
   "execution_count": null,
   "id": "91dc3057",
   "metadata": {},
   "outputs": [],
   "source": [
    "imagem = convert_from_path('Downloads/' + nome_arquivo + '.pdf', dpi=200)\n",
    "arquivo_png = (nome_arquivo + ' - png' + '.png')\n",
    "\n",
    "for imagens in imagem:\n",
    "       imagens.save(arquivo_png, 'PNG')\n",
    "        "
   ]
  },
  {
   "cell_type": "markdown",
   "id": "9aa7d95e",
   "metadata": {},
   "source": [
    "### <font color=purple>2.3  Rotacionando a Imagem (em caso de fotos, entre outros)"
   ]
  },
  {
   "cell_type": "markdown",
   "id": "3007f7f1",
   "metadata": {},
   "source": [
    "Para ***rotacionar a imagem*** conforme um ângulo X, informá-lo **abaixo**.\n",
    "\n",
    "Obs.: O ângulo deve ser um ***número inteiro.*** Para manter sem rotacionar, ***digitar 0***."
   ]
  },
  {
   "cell_type": "code",
   "execution_count": null,
   "id": "30a2a0f6",
   "metadata": {},
   "outputs": [],
   "source": [
    "angulo = input('Em quantos graus você gostaria de girar a imagem? ')"
   ]
  },
  {
   "cell_type": "code",
   "execution_count": null,
   "id": "2a0bbf7a",
   "metadata": {},
   "outputs": [],
   "source": [
    "angulo_rotacao = int(angulo)\n",
    "imagem = Image.open(arquivo_png).rotate(angulo_rotacao)\n",
    "\n",
    "\n",
    "arquivo_png_rot = (nome_arquivo + ' (png)' + '.png')\n",
    "imagemdisplay = 'Downloads/' + arquivo_png_rot\n",
    "\n",
    "imagem.save(arquivo_png_rot, 'PNG')\n"
   ]
  },
  {
   "cell_type": "markdown",
   "id": "4aa63f5d",
   "metadata": {},
   "source": [
    "# <font color=indigo> Fim da Conversão! A imagem a seguir foi salva."
   ]
  },
  {
   "cell_type": "code",
   "execution_count": null,
   "id": "6cf4bd0e",
   "metadata": {},
   "outputs": [],
   "source": [
    "imagem.show(arquivo_png_rot)"
   ]
  },
  {
   "cell_type": "code",
   "execution_count": null,
   "id": "b3a2e25d",
   "metadata": {},
   "outputs": [],
   "source": []
  }
 ],
 "metadata": {
  "kernelspec": {
   "display_name": "Python 3 (ipykernel)",
   "language": "python",
   "name": "python3"
  },
  "language_info": {
   "codemirror_mode": {
    "name": "ipython",
    "version": 3
   },
   "file_extension": ".py",
   "mimetype": "text/x-python",
   "name": "python",
   "nbconvert_exporter": "python",
   "pygments_lexer": "ipython3",
   "version": "3.9.12"
  }
 },
 "nbformat": 4,
 "nbformat_minor": 5
}
